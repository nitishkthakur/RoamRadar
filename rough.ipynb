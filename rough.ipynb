{
 "cells": [
  {
   "cell_type": "code",
   "execution_count": 16,
   "id": "d0df6df1",
   "metadata": {},
   "outputs": [],
   "source": [
    "import httpx\n",
    "import requests\n",
    "import os\n",
    "import dotenv\n",
    "import json\n",
    "\n",
    "dotenv.load_dotenv()\n",
    "API_KEY = os.getenv(\"WEATHER_API_KEY\")\n",
    "API_URL = \"https://api.openai.com/v1/chat/completions\""
   ]
  },
  {
   "cell_type": "code",
   "execution_count": null,
   "id": "763c34c7",
   "metadata": {},
   "outputs": [
    {
     "data": {
      "text/plain": [
       "'e3b582045519418598b191144252204'"
      ]
     },
     "execution_count": 17,
     "metadata": {},
     "output_type": "execute_result"
    }
   ],
   "source": []
  },
  {
   "cell_type": "code",
   "execution_count": null,
   "id": "2b4820fc",
   "metadata": {},
   "outputs": [
    {
     "data": {
      "text/plain": [
       "{'Place': 'Thimphu',\n",
       " 'Region': 'Thimphu',\n",
       " 'Country': 'Bhutan',\n",
       " 'Temperature (deg. C)': 8.7,\n",
       " 'Feels Like (deg. C)': 8.6,\n",
       " 'Last Updated': '2025-04-23 03:00',\n",
       " 'Condition': 'Patchy rain nearby',\n",
       " 'Wind Speed(kmph)': 4.0,\n",
       " 'humidity': 92,\n",
       " 'Pressure(mb)': 1013.0,\n",
       " 'Visibility(km)': 10.0,\n",
       " 'Cloud': 89,\n",
       " 'precip_mm': 0.09}"
      ]
     },
     "execution_count": 18,
     "metadata": {},
     "output_type": "execute_result"
    }
   ],
   "source": [
    "def extract_current_weather_parameters(json_return):\n",
    "    weather_dict = {}\n",
    "    weather_dict['Place'] = json_return.get('location').get('name')\n",
    "    weather_dict['Region'] = json_return.get('location').get('region')\n",
    "    weather_dict['Country'] = json_return.get('location').get('country')\n",
    "\n",
    "    weather_dict['Temperature (deg. C)'] = json_return.get('current').get('temp_c')\n",
    "    weather_dict['Feels Like (deg. C)'] = json_return.get('current').get('feelslike_c')\n",
    "    weather_dict['Last Updated'] = json_return.get('current').get('last_updated')\n",
    "\n",
    "    weather_dict['Condition'] = json_return.get('current').get('condition').get('text')\n",
    "    weather_dict['Wind Speed(kmph)'] = json_return.get('current').get('wind_kph')\n",
    "    weather_dict['humidity'] = json_return.get('current').get('humidity')\n",
    "    weather_dict['Pressure(mb)'] = json_return.get('current').get('pressure_mb')\n",
    "    weather_dict['Visibility(km)'] = json_return.get('current').get('vis_km')\n",
    "    weather_dict['Cloud'] = json_return.get('current').get('cloud')\n",
    "    weather_dict['precip_mm'] = json_return.get('current').get('precip_mm')\n",
    "    weather_dict['aqi'] = json_return.get('current').get('aqi')\n",
    "    return weather_dict\n",
    "\n",
    "\n",
    "\n",
    "weather_response = httpx.get(\"https://api.weatherapi.com/v1/current.json\", params = {'q': 'Thimphu', 'key': API_KEY, 'aqi':'yes'}).json()\n",
    "extract_current_weather_parameters(weather_response)"
   ]
  },
  {
   "cell_type": "code",
   "execution_count": 8,
   "id": "03142038",
   "metadata": {},
   "outputs": [
    {
     "data": {
      "text/plain": [
       "{'location': {'name': 'Thimphu',\n",
       "  'region': 'Thimphu',\n",
       "  'country': 'Bhutan',\n",
       "  'lat': 27.4833,\n",
       "  'lon': 89.6,\n",
       "  'tz_id': 'Asia/Thimphu',\n",
       "  'localtime_epoch': 1745350228,\n",
       "  'localtime': '2025-04-23 01:30'},\n",
       " 'current': {'last_updated_epoch': 1745350200,\n",
       "  'last_updated': '2025-04-23 01:30',\n",
       "  'temp_c': 8.7,\n",
       "  'temp_f': 47.7,\n",
       "  'is_day': 0,\n",
       "  'condition': {'text': 'Patchy rain nearby',\n",
       "   'icon': '//cdn.weatherapi.com/weather/64x64/night/176.png',\n",
       "   'code': 1063},\n",
       "  'wind_mph': 3.4,\n",
       "  'wind_kph': 5.4,\n",
       "  'wind_degree': 248,\n",
       "  'wind_dir': 'WSW',\n",
       "  'pressure_mb': 1014.0,\n",
       "  'pressure_in': 29.95,\n",
       "  'precip_mm': 0.11,\n",
       "  'precip_in': 0.0,\n",
       "  'humidity': 92,\n",
       "  'cloud': 73,\n",
       "  'feelslike_c': 8.2,\n",
       "  'feelslike_f': 46.7,\n",
       "  'windchill_c': 8.2,\n",
       "  'windchill_f': 46.7,\n",
       "  'heatindex_c': 8.7,\n",
       "  'heatindex_f': 47.7,\n",
       "  'dewpoint_c': 7.5,\n",
       "  'dewpoint_f': 45.4,\n",
       "  'vis_km': 10.0,\n",
       "  'vis_miles': 6.0,\n",
       "  'uv': 0.0,\n",
       "  'gust_mph': 5.7,\n",
       "  'gust_kph': 9.1}}"
      ]
     },
     "execution_count": 8,
     "metadata": {},
     "output_type": "execute_result"
    }
   ],
   "source": [
    "requests.get(\"http://api.weatherapi.com/v1/current.json\", params = {'q': 'Thimphu', 'key': \"e3b582045519418598b191144252204\"}).json()"
   ]
  },
  {
   "cell_type": "code",
   "execution_count": null,
   "id": "e16e153f",
   "metadata": {},
   "outputs": [
    {
     "data": {
      "text/plain": [
       "{'location': {'name': 'Thimphu',\n",
       "  'region': 'Thimphu',\n",
       "  'country': 'Bhutan',\n",
       "  'lat': 27.4833,\n",
       "  'lon': 89.6,\n",
       "  'tz_id': 'Asia/Thimphu',\n",
       "  'localtime_epoch': 1745350261,\n",
       "  'localtime': '2025-04-23 01:31'},\n",
       " 'current': {'last_updated_epoch': 1745350200,\n",
       "  'last_updated': '2025-04-23 01:30',\n",
       "  'temp_c': 8.7,\n",
       "  'temp_f': 47.7,\n",
       "  'is_day': 0,\n",
       "  'condition': {'text': 'Patchy rain nearby',\n",
       "   'icon': '//cdn.weatherapi.com/weather/64x64/night/176.png',\n",
       "   'code': 1063},\n",
       "  'wind_mph': 3.4,\n",
       "  'wind_kph': 5.4,\n",
       "  'wind_degree': 248,\n",
       "  'wind_dir': 'WSW',\n",
       "  'pressure_mb': 1014.0,\n",
       "  'pressure_in': 29.95,\n",
       "  'precip_mm': 0.11,\n",
       "  'precip_in': 0.0,\n",
       "  'humidity': 92,\n",
       "  'cloud': 73,\n",
       "  'feelslike_c': 8.2,\n",
       "  'feelslike_f': 46.7,\n",
       "  'windchill_c': 8.2,\n",
       "  'windchill_f': 46.7,\n",
       "  'heatindex_c': 8.7,\n",
       "  'heatindex_f': 47.7,\n",
       "  'dewpoint_c': 7.5,\n",
       "  'dewpoint_f': 45.4,\n",
       "  'vis_km': 10.0,\n",
       "  'vis_miles': 6.0,\n",
       "  'uv': 0.0,\n",
       "  'gust_mph': 5.7,\n",
       "  'gust_kph': 9.1}}"
      ]
     },
     "execution_count": 9,
     "metadata": {},
     "output_type": "execute_result"
    }
   ],
   "source": []
  }
 ],
 "metadata": {
  "kernelspec": {
   "display_name": "base",
   "language": "python",
   "name": "python3"
  },
  "language_info": {
   "codemirror_mode": {
    "name": "ipython",
    "version": 3
   },
   "file_extension": ".py",
   "mimetype": "text/x-python",
   "name": "python",
   "nbconvert_exporter": "python",
   "pygments_lexer": "ipython3",
   "version": "3.12.3"
  }
 },
 "nbformat": 4,
 "nbformat_minor": 5
}
