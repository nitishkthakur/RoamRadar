{
 "cells": [
  {
   "cell_type": "code",
   "execution_count": 3,
   "id": "d0df6df1",
   "metadata": {},
   "outputs": [],
   "source": [
    "import httpx\n",
    "import requests\n",
    "import os\n",
    "import dotenv\n",
    "import json\n",
    "import google\n",
    "dotenv.load_dotenv()\n",
    "API_KEY = os.getenv(\"WEATHER_API_KEY\")\n",
    "API_URL = \"https://api.openai.com/v1/chat/completions\""
   ]
  },
  {
   "cell_type": "code",
   "execution_count": null,
   "id": "763c34c7",
   "metadata": {},
   "outputs": [
    {
     "name": "stdout",
     "output_type": "stream",
     "text": [
      "The temperature in Bhutan next week (approximately April 25 - May 1, 2025) is expected to range between 55°F and 71°F. There is a likelihood of rain on most days.\n",
      "\n"
     ]
    }
   ],
   "source": [
    "user_query = \"How is the temperature expected in bhutan next week?\"\n",
    "\n",
    "# To run this code you need to install the following dependencies:\n",
    "# pip install google-genai\n",
    "\n",
    "import base64\n",
    "import os\n",
    "from google import genai\n",
    "from google.genai import types\n",
    "\n",
    "\n",
    "def generate(user_query):\n",
    "    client = genai.Client(\n",
    "        api_key=os.environ.get(\"GEMINI_API_KEY\"),\n",
    "    )\n",
    "\n",
    "    model = \"gemini-2.0-flash\"\n",
    "    contents = [\n",
    "        types.Content(\n",
    "            role=\"user\",\n",
    "            parts=[\n",
    "                types.Part.from_text(text=user_query),\n",
    "            ],\n",
    "        ),\n",
    "    ]\n",
    "    tools = [\n",
    "        types.Tool(google_search=types.GoogleSearch()),\n",
    "    ]\n",
    "    generate_content_config = types.GenerateContentConfig(\n",
    "        top_p=0.95,\n",
    "        thinking_config = types.ThinkingConfig(\n",
    "            thinking_budget=0,\n",
    "        ),\n",
    "        tools=tools,\n",
    "        response_mime_type=\"text/plain\",\n",
    "    )\n",
    "    r = []\n",
    "    for chunk in client.models.generate_content_stream(\n",
    "        model=model,\n",
    "        contents=contents,\n",
    "        config=generate_content_config,\n",
    "    ):\n",
    "        r.append(chunk.text)\n",
    "    response = \"\".join(r)\n",
    "    return response\n",
    "\n",
    "generate(user_query)\n"
   ]
  },
  {
   "cell_type": "code",
   "execution_count": 19,
   "id": "2b4820fc",
   "metadata": {},
   "outputs": [
    {
     "data": {
      "text/plain": [
       "{'Place': 'Thimphu',\n",
       " 'Region': 'Thimphu',\n",
       " 'Country': 'Bhutan',\n",
       " 'Temperature (deg. C)': 8.7,\n",
       " 'Feels Like (deg. C)': 8.6,\n",
       " 'Last Updated': '2025-04-23 03:00',\n",
       " 'Condition': 'Patchy rain nearby',\n",
       " 'Wind Speed(kmph)': 4.0,\n",
       " 'humidity': 92,\n",
       " 'Pressure(mb)': 1013.0,\n",
       " 'Visibility(km)': 10.0,\n",
       " 'Cloud': 89,\n",
       " 'precip_mm': 0.09,\n",
       " 'aqi': None}"
      ]
     },
     "execution_count": 19,
     "metadata": {},
     "output_type": "execute_result"
    }
   ],
   "source": [
    "def extract_current_weather_parameters(json_return):\n",
    "    weather_dict = {}\n",
    "    weather_dict['Place'] = json_return.get('location').get('name')\n",
    "    weather_dict['Region'] = json_return.get('location').get('region')\n",
    "    weather_dict['Country'] = json_return.get('location').get('country')\n",
    "\n",
    "    weather_dict['Temperature (deg. C)'] = json_return.get('current').get('temp_c')\n",
    "    weather_dict['Feels Like (deg. C)'] = json_return.get('current').get('feelslike_c')\n",
    "    weather_dict['Last Updated'] = json_return.get('current').get('last_updated')\n",
    "\n",
    "    weather_dict['Condition'] = json_return.get('current').get('condition').get('text')\n",
    "    weather_dict['Wind Speed(kmph)'] = json_return.get('current').get('wind_kph')\n",
    "    weather_dict['humidity'] = json_return.get('current').get('humidity')\n",
    "    weather_dict['Pressure(mb)'] = json_return.get('current').get('pressure_mb')\n",
    "    weather_dict['Visibility(km)'] = json_return.get('current').get('vis_km')\n",
    "    weather_dict['Cloud'] = json_return.get('current').get('cloud')\n",
    "    weather_dict['precip_mm'] = json_return.get('current').get('precip_mm')\n",
    "    weather_dict['aqi'] = json_return.get('current').get('aqi')\n",
    "    return weather_dict\n",
    "\n",
    "\n",
    "\n",
    "weather_response = httpx.get(\"https://api.weatherapi.com/v1/current.json\", params = {'q': 'Thimphu', 'key': API_KEY, 'aqi':'yes'}).json()\n",
    "extract_current_weather_parameters(weather_response)"
   ]
  },
  {
   "cell_type": "code",
   "execution_count": 20,
   "id": "5b410273",
   "metadata": {},
   "outputs": [
    {
     "data": {
      "text/plain": [
       "{'location': {'name': 'Thimphu',\n",
       "  'region': 'Thimphu',\n",
       "  'country': 'Bhutan',\n",
       "  'lat': 27.4833,\n",
       "  'lon': 89.6,\n",
       "  'tz_id': 'Asia/Thimphu',\n",
       "  'localtime_epoch': 1745356099,\n",
       "  'localtime': '2025-04-23 03:08'},\n",
       " 'current': {'last_updated_epoch': 1745355600,\n",
       "  'last_updated': '2025-04-23 03:00',\n",
       "  'temp_c': 8.7,\n",
       "  'temp_f': 47.6,\n",
       "  'is_day': 0,\n",
       "  'condition': {'text': 'Patchy rain nearby',\n",
       "   'icon': '//cdn.weatherapi.com/weather/64x64/night/176.png',\n",
       "   'code': 1063},\n",
       "  'wind_mph': 2.5,\n",
       "  'wind_kph': 4.0,\n",
       "  'wind_degree': 250,\n",
       "  'wind_dir': 'WSW',\n",
       "  'pressure_mb': 1013.0,\n",
       "  'pressure_in': 29.91,\n",
       "  'precip_mm': 0.09,\n",
       "  'precip_in': 0.0,\n",
       "  'humidity': 92,\n",
       "  'cloud': 89,\n",
       "  'feelslike_c': 8.6,\n",
       "  'feelslike_f': 47.5,\n",
       "  'windchill_c': 8.6,\n",
       "  'windchill_f': 47.5,\n",
       "  'heatindex_c': 8.7,\n",
       "  'heatindex_f': 47.6,\n",
       "  'dewpoint_c': 7.4,\n",
       "  'dewpoint_f': 45.3,\n",
       "  'vis_km': 10.0,\n",
       "  'vis_miles': 6.0,\n",
       "  'uv': 0.0,\n",
       "  'gust_mph': 4.0,\n",
       "  'gust_kph': 6.5,\n",
       "  'air_quality': {'co': 673.4,\n",
       "   'no2': 5.55,\n",
       "   'o3': 106.0,\n",
       "   'so2': 2.22,\n",
       "   'pm2_5': 9.62,\n",
       "   'pm10': 11.285,\n",
       "   'us-epa-index': 1,\n",
       "   'gb-defra-index': 1}}}"
      ]
     },
     "execution_count": 20,
     "metadata": {},
     "output_type": "execute_result"
    }
   ],
   "source": [
    "weather_response"
   ]
  },
  {
   "cell_type": "code",
   "execution_count": 8,
   "id": "03142038",
   "metadata": {},
   "outputs": [
    {
     "data": {
      "text/plain": [
       "{'location': {'name': 'Thimphu',\n",
       "  'region': 'Thimphu',\n",
       "  'country': 'Bhutan',\n",
       "  'lat': 27.4833,\n",
       "  'lon': 89.6,\n",
       "  'tz_id': 'Asia/Thimphu',\n",
       "  'localtime_epoch': 1745350228,\n",
       "  'localtime': '2025-04-23 01:30'},\n",
       " 'current': {'last_updated_epoch': 1745350200,\n",
       "  'last_updated': '2025-04-23 01:30',\n",
       "  'temp_c': 8.7,\n",
       "  'temp_f': 47.7,\n",
       "  'is_day': 0,\n",
       "  'condition': {'text': 'Patchy rain nearby',\n",
       "   'icon': '//cdn.weatherapi.com/weather/64x64/night/176.png',\n",
       "   'code': 1063},\n",
       "  'wind_mph': 3.4,\n",
       "  'wind_kph': 5.4,\n",
       "  'wind_degree': 248,\n",
       "  'wind_dir': 'WSW',\n",
       "  'pressure_mb': 1014.0,\n",
       "  'pressure_in': 29.95,\n",
       "  'precip_mm': 0.11,\n",
       "  'precip_in': 0.0,\n",
       "  'humidity': 92,\n",
       "  'cloud': 73,\n",
       "  'feelslike_c': 8.2,\n",
       "  'feelslike_f': 46.7,\n",
       "  'windchill_c': 8.2,\n",
       "  'windchill_f': 46.7,\n",
       "  'heatindex_c': 8.7,\n",
       "  'heatindex_f': 47.7,\n",
       "  'dewpoint_c': 7.5,\n",
       "  'dewpoint_f': 45.4,\n",
       "  'vis_km': 10.0,\n",
       "  'vis_miles': 6.0,\n",
       "  'uv': 0.0,\n",
       "  'gust_mph': 5.7,\n",
       "  'gust_kph': 9.1}}"
      ]
     },
     "execution_count": 8,
     "metadata": {},
     "output_type": "execute_result"
    }
   ],
   "source": [
    "requests.get(\"http://api.weatherapi.com/v1/current.json\", params = {'q': 'Thimphu', 'key': \"e3b582045519418598b191144252204\"}).json()"
   ]
  },
  {
   "cell_type": "code",
   "execution_count": null,
   "id": "e16e153f",
   "metadata": {},
   "outputs": [
    {
     "data": {
      "text/plain": [
       "{'location': {'name': 'Thimphu',\n",
       "  'region': 'Thimphu',\n",
       "  'country': 'Bhutan',\n",
       "  'lat': 27.4833,\n",
       "  'lon': 89.6,\n",
       "  'tz_id': 'Asia/Thimphu',\n",
       "  'localtime_epoch': 1745350261,\n",
       "  'localtime': '2025-04-23 01:31'},\n",
       " 'current': {'last_updated_epoch': 1745350200,\n",
       "  'last_updated': '2025-04-23 01:30',\n",
       "  'temp_c': 8.7,\n",
       "  'temp_f': 47.7,\n",
       "  'is_day': 0,\n",
       "  'condition': {'text': 'Patchy rain nearby',\n",
       "   'icon': '//cdn.weatherapi.com/weather/64x64/night/176.png',\n",
       "   'code': 1063},\n",
       "  'wind_mph': 3.4,\n",
       "  'wind_kph': 5.4,\n",
       "  'wind_degree': 248,\n",
       "  'wind_dir': 'WSW',\n",
       "  'pressure_mb': 1014.0,\n",
       "  'pressure_in': 29.95,\n",
       "  'precip_mm': 0.11,\n",
       "  'precip_in': 0.0,\n",
       "  'humidity': 92,\n",
       "  'cloud': 73,\n",
       "  'feelslike_c': 8.2,\n",
       "  'feelslike_f': 46.7,\n",
       "  'windchill_c': 8.2,\n",
       "  'windchill_f': 46.7,\n",
       "  'heatindex_c': 8.7,\n",
       "  'heatindex_f': 47.7,\n",
       "  'dewpoint_c': 7.5,\n",
       "  'dewpoint_f': 45.4,\n",
       "  'vis_km': 10.0,\n",
       "  'vis_miles': 6.0,\n",
       "  'uv': 0.0,\n",
       "  'gust_mph': 5.7,\n",
       "  'gust_kph': 9.1}}"
      ]
     },
     "execution_count": 9,
     "metadata": {},
     "output_type": "execute_result"
    }
   ],
   "source": []
  }
 ],
 "metadata": {
  "kernelspec": {
   "display_name": "base",
   "language": "python",
   "name": "python3"
  },
  "language_info": {
   "codemirror_mode": {
    "name": "ipython",
    "version": 3
   },
   "file_extension": ".py",
   "mimetype": "text/x-python",
   "name": "python",
   "nbconvert_exporter": "python",
   "pygments_lexer": "ipython3",
   "version": "3.12.3"
  }
 },
 "nbformat": 4,
 "nbformat_minor": 5
}
